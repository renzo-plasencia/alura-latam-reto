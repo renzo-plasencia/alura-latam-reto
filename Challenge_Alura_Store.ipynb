{
  "nbformat": 4,
  "nbformat_minor": 0,
  "metadata": {
    "colab": {
      "provenance": [],
      "include_colab_link": true
    },
    "kernelspec": {
      "name": "python3",
      "display_name": "Python 3"
    },
    "language_info": {
      "name": "python"
    }
  },
  "cells": [
    {
      "cell_type": "markdown",
      "metadata": {
        "id": "view-in-github",
        "colab_type": "text"
      },
      "source": [
        "<a href=\"https://colab.research.google.com/github/renzo-plasencia/alura-latam-reto/blob/main/Challenge_Alura_Store.ipynb\" target=\"_parent\"><img src=\"https://colab.research.google.com/assets/colab-badge.svg\" alt=\"Open In Colab\"/></a>"
      ]
    },
    {
      "cell_type": "code",
      "source": [
        "from google.colab import drive\n",
        "drive.mount('/content/drive')"
      ],
      "metadata": {
        "colab": {
          "base_uri": "https://localhost:8080/"
        },
        "id": "uCFXVhCAWKVF",
        "outputId": "6f304bee-01db-4e89-ff67-538977813fb7"
      },
      "execution_count": null,
      "outputs": [
        {
          "output_type": "stream",
          "name": "stdout",
          "text": [
            "Mounted at /content/drive\n"
          ]
        }
      ]
    },
    {
      "cell_type": "markdown",
      "source": [
        "### Importación de datos\n",
        "\n"
      ],
      "metadata": {
        "id": "RhEdWd9YUR6H"
      }
    },
    {
      "cell_type": "code",
      "execution_count": null,
      "metadata": {
        "colab": {
          "base_uri": "https://localhost:8080/",
          "height": 362
        },
        "id": "T3EvaeQ_INIL",
        "outputId": "bff4599d-f7e0-49fe-8315-bf8719dc9b57"
      },
      "outputs": [
        {
          "output_type": "execute_result",
          "data": {
            "text/plain": [
              "            Producto Categoría del Producto    Precio  Costo de envío  \\\n",
              "0  Asistente virtual           Electrónicos  164300.0          6900.0   \n",
              "1    Mesa de comedor                Muebles  192300.0          8400.0   \n",
              "2      Juego de mesa               Juguetes  209600.0         15900.0   \n",
              "3         Microondas      Electrodomésticos  757500.0         41000.0   \n",
              "4   Silla de oficina                Muebles  335200.0         20200.0   \n",
              "\n",
              "  Fecha de Compra         Vendedor Lugar de Compra  Calificación  \\\n",
              "0      16/01/2021      Pedro Gomez          Bogotá             4   \n",
              "1      18/05/2022  Beatriz Morales        Medellín             1   \n",
              "2      15/03/2021   Juan Fernandez       Cartagena             1   \n",
              "3      03/05/2022   Juan Fernandez            Cali             4   \n",
              "4      07/11/2020    Maria Alfonso        Medellín             5   \n",
              "\n",
              "       Método de pago  Cantidad de cuotas       lat       lon  \n",
              "0  Tarjeta de crédito                   8   4.60971 -74.08175  \n",
              "1  Tarjeta de crédito                   4   6.25184 -75.56359  \n",
              "2  Tarjeta de crédito                   1  10.39972 -75.51444  \n",
              "3               Nequi                   1   3.43722 -76.52250  \n",
              "4               Nequi                   1   6.25184 -75.56359  "
            ],
            "text/html": [
              "\n",
              "  <div id=\"df-61cd2b31-650f-45f7-a746-2bc1586fd36a\" class=\"colab-df-container\">\n",
              "    <div>\n",
              "<style scoped>\n",
              "    .dataframe tbody tr th:only-of-type {\n",
              "        vertical-align: middle;\n",
              "    }\n",
              "\n",
              "    .dataframe tbody tr th {\n",
              "        vertical-align: top;\n",
              "    }\n",
              "\n",
              "    .dataframe thead th {\n",
              "        text-align: right;\n",
              "    }\n",
              "</style>\n",
              "<table border=\"1\" class=\"dataframe\">\n",
              "  <thead>\n",
              "    <tr style=\"text-align: right;\">\n",
              "      <th></th>\n",
              "      <th>Producto</th>\n",
              "      <th>Categoría del Producto</th>\n",
              "      <th>Precio</th>\n",
              "      <th>Costo de envío</th>\n",
              "      <th>Fecha de Compra</th>\n",
              "      <th>Vendedor</th>\n",
              "      <th>Lugar de Compra</th>\n",
              "      <th>Calificación</th>\n",
              "      <th>Método de pago</th>\n",
              "      <th>Cantidad de cuotas</th>\n",
              "      <th>lat</th>\n",
              "      <th>lon</th>\n",
              "    </tr>\n",
              "  </thead>\n",
              "  <tbody>\n",
              "    <tr>\n",
              "      <th>0</th>\n",
              "      <td>Asistente virtual</td>\n",
              "      <td>Electrónicos</td>\n",
              "      <td>164300.0</td>\n",
              "      <td>6900.0</td>\n",
              "      <td>16/01/2021</td>\n",
              "      <td>Pedro Gomez</td>\n",
              "      <td>Bogotá</td>\n",
              "      <td>4</td>\n",
              "      <td>Tarjeta de crédito</td>\n",
              "      <td>8</td>\n",
              "      <td>4.60971</td>\n",
              "      <td>-74.08175</td>\n",
              "    </tr>\n",
              "    <tr>\n",
              "      <th>1</th>\n",
              "      <td>Mesa de comedor</td>\n",
              "      <td>Muebles</td>\n",
              "      <td>192300.0</td>\n",
              "      <td>8400.0</td>\n",
              "      <td>18/05/2022</td>\n",
              "      <td>Beatriz Morales</td>\n",
              "      <td>Medellín</td>\n",
              "      <td>1</td>\n",
              "      <td>Tarjeta de crédito</td>\n",
              "      <td>4</td>\n",
              "      <td>6.25184</td>\n",
              "      <td>-75.56359</td>\n",
              "    </tr>\n",
              "    <tr>\n",
              "      <th>2</th>\n",
              "      <td>Juego de mesa</td>\n",
              "      <td>Juguetes</td>\n",
              "      <td>209600.0</td>\n",
              "      <td>15900.0</td>\n",
              "      <td>15/03/2021</td>\n",
              "      <td>Juan Fernandez</td>\n",
              "      <td>Cartagena</td>\n",
              "      <td>1</td>\n",
              "      <td>Tarjeta de crédito</td>\n",
              "      <td>1</td>\n",
              "      <td>10.39972</td>\n",
              "      <td>-75.51444</td>\n",
              "    </tr>\n",
              "    <tr>\n",
              "      <th>3</th>\n",
              "      <td>Microondas</td>\n",
              "      <td>Electrodomésticos</td>\n",
              "      <td>757500.0</td>\n",
              "      <td>41000.0</td>\n",
              "      <td>03/05/2022</td>\n",
              "      <td>Juan Fernandez</td>\n",
              "      <td>Cali</td>\n",
              "      <td>4</td>\n",
              "      <td>Nequi</td>\n",
              "      <td>1</td>\n",
              "      <td>3.43722</td>\n",
              "      <td>-76.52250</td>\n",
              "    </tr>\n",
              "    <tr>\n",
              "      <th>4</th>\n",
              "      <td>Silla de oficina</td>\n",
              "      <td>Muebles</td>\n",
              "      <td>335200.0</td>\n",
              "      <td>20200.0</td>\n",
              "      <td>07/11/2020</td>\n",
              "      <td>Maria Alfonso</td>\n",
              "      <td>Medellín</td>\n",
              "      <td>5</td>\n",
              "      <td>Nequi</td>\n",
              "      <td>1</td>\n",
              "      <td>6.25184</td>\n",
              "      <td>-75.56359</td>\n",
              "    </tr>\n",
              "  </tbody>\n",
              "</table>\n",
              "</div>\n",
              "    <div class=\"colab-df-buttons\">\n",
              "\n",
              "  <div class=\"colab-df-container\">\n",
              "    <button class=\"colab-df-convert\" onclick=\"convertToInteractive('df-61cd2b31-650f-45f7-a746-2bc1586fd36a')\"\n",
              "            title=\"Convert this dataframe to an interactive table.\"\n",
              "            style=\"display:none;\">\n",
              "\n",
              "  <svg xmlns=\"http://www.w3.org/2000/svg\" height=\"24px\" viewBox=\"0 -960 960 960\">\n",
              "    <path d=\"M120-120v-720h720v720H120Zm60-500h600v-160H180v160Zm220 220h160v-160H400v160Zm0 220h160v-160H400v160ZM180-400h160v-160H180v160Zm440 0h160v-160H620v160ZM180-180h160v-160H180v160Zm440 0h160v-160H620v160Z\"/>\n",
              "  </svg>\n",
              "    </button>\n",
              "\n",
              "  <style>\n",
              "    .colab-df-container {\n",
              "      display:flex;\n",
              "      gap: 12px;\n",
              "    }\n",
              "\n",
              "    .colab-df-convert {\n",
              "      background-color: #E8F0FE;\n",
              "      border: none;\n",
              "      border-radius: 50%;\n",
              "      cursor: pointer;\n",
              "      display: none;\n",
              "      fill: #1967D2;\n",
              "      height: 32px;\n",
              "      padding: 0 0 0 0;\n",
              "      width: 32px;\n",
              "    }\n",
              "\n",
              "    .colab-df-convert:hover {\n",
              "      background-color: #E2EBFA;\n",
              "      box-shadow: 0px 1px 2px rgba(60, 64, 67, 0.3), 0px 1px 3px 1px rgba(60, 64, 67, 0.15);\n",
              "      fill: #174EA6;\n",
              "    }\n",
              "\n",
              "    .colab-df-buttons div {\n",
              "      margin-bottom: 4px;\n",
              "    }\n",
              "\n",
              "    [theme=dark] .colab-df-convert {\n",
              "      background-color: #3B4455;\n",
              "      fill: #D2E3FC;\n",
              "    }\n",
              "\n",
              "    [theme=dark] .colab-df-convert:hover {\n",
              "      background-color: #434B5C;\n",
              "      box-shadow: 0px 1px 3px 1px rgba(0, 0, 0, 0.15);\n",
              "      filter: drop-shadow(0px 1px 2px rgba(0, 0, 0, 0.3));\n",
              "      fill: #FFFFFF;\n",
              "    }\n",
              "  </style>\n",
              "\n",
              "    <script>\n",
              "      const buttonEl =\n",
              "        document.querySelector('#df-61cd2b31-650f-45f7-a746-2bc1586fd36a button.colab-df-convert');\n",
              "      buttonEl.style.display =\n",
              "        google.colab.kernel.accessAllowed ? 'block' : 'none';\n",
              "\n",
              "      async function convertToInteractive(key) {\n",
              "        const element = document.querySelector('#df-61cd2b31-650f-45f7-a746-2bc1586fd36a');\n",
              "        const dataTable =\n",
              "          await google.colab.kernel.invokeFunction('convertToInteractive',\n",
              "                                                    [key], {});\n",
              "        if (!dataTable) return;\n",
              "\n",
              "        const docLinkHtml = 'Like what you see? Visit the ' +\n",
              "          '<a target=\"_blank\" href=https://colab.research.google.com/notebooks/data_table.ipynb>data table notebook</a>'\n",
              "          + ' to learn more about interactive tables.';\n",
              "        element.innerHTML = '';\n",
              "        dataTable['output_type'] = 'display_data';\n",
              "        await google.colab.output.renderOutput(dataTable, element);\n",
              "        const docLink = document.createElement('div');\n",
              "        docLink.innerHTML = docLinkHtml;\n",
              "        element.appendChild(docLink);\n",
              "      }\n",
              "    </script>\n",
              "  </div>\n",
              "\n",
              "\n",
              "    <div id=\"df-e4b84a86-e75e-47c6-8c95-ba76bc13917d\">\n",
              "      <button class=\"colab-df-quickchart\" onclick=\"quickchart('df-e4b84a86-e75e-47c6-8c95-ba76bc13917d')\"\n",
              "                title=\"Suggest charts\"\n",
              "                style=\"display:none;\">\n",
              "\n",
              "<svg xmlns=\"http://www.w3.org/2000/svg\" height=\"24px\"viewBox=\"0 0 24 24\"\n",
              "     width=\"24px\">\n",
              "    <g>\n",
              "        <path d=\"M19 3H5c-1.1 0-2 .9-2 2v14c0 1.1.9 2 2 2h14c1.1 0 2-.9 2-2V5c0-1.1-.9-2-2-2zM9 17H7v-7h2v7zm4 0h-2V7h2v10zm4 0h-2v-4h2v4z\"/>\n",
              "    </g>\n",
              "</svg>\n",
              "      </button>\n",
              "\n",
              "<style>\n",
              "  .colab-df-quickchart {\n",
              "      --bg-color: #E8F0FE;\n",
              "      --fill-color: #1967D2;\n",
              "      --hover-bg-color: #E2EBFA;\n",
              "      --hover-fill-color: #174EA6;\n",
              "      --disabled-fill-color: #AAA;\n",
              "      --disabled-bg-color: #DDD;\n",
              "  }\n",
              "\n",
              "  [theme=dark] .colab-df-quickchart {\n",
              "      --bg-color: #3B4455;\n",
              "      --fill-color: #D2E3FC;\n",
              "      --hover-bg-color: #434B5C;\n",
              "      --hover-fill-color: #FFFFFF;\n",
              "      --disabled-bg-color: #3B4455;\n",
              "      --disabled-fill-color: #666;\n",
              "  }\n",
              "\n",
              "  .colab-df-quickchart {\n",
              "    background-color: var(--bg-color);\n",
              "    border: none;\n",
              "    border-radius: 50%;\n",
              "    cursor: pointer;\n",
              "    display: none;\n",
              "    fill: var(--fill-color);\n",
              "    height: 32px;\n",
              "    padding: 0;\n",
              "    width: 32px;\n",
              "  }\n",
              "\n",
              "  .colab-df-quickchart:hover {\n",
              "    background-color: var(--hover-bg-color);\n",
              "    box-shadow: 0 1px 2px rgba(60, 64, 67, 0.3), 0 1px 3px 1px rgba(60, 64, 67, 0.15);\n",
              "    fill: var(--button-hover-fill-color);\n",
              "  }\n",
              "\n",
              "  .colab-df-quickchart-complete:disabled,\n",
              "  .colab-df-quickchart-complete:disabled:hover {\n",
              "    background-color: var(--disabled-bg-color);\n",
              "    fill: var(--disabled-fill-color);\n",
              "    box-shadow: none;\n",
              "  }\n",
              "\n",
              "  .colab-df-spinner {\n",
              "    border: 2px solid var(--fill-color);\n",
              "    border-color: transparent;\n",
              "    border-bottom-color: var(--fill-color);\n",
              "    animation:\n",
              "      spin 1s steps(1) infinite;\n",
              "  }\n",
              "\n",
              "  @keyframes spin {\n",
              "    0% {\n",
              "      border-color: transparent;\n",
              "      border-bottom-color: var(--fill-color);\n",
              "      border-left-color: var(--fill-color);\n",
              "    }\n",
              "    20% {\n",
              "      border-color: transparent;\n",
              "      border-left-color: var(--fill-color);\n",
              "      border-top-color: var(--fill-color);\n",
              "    }\n",
              "    30% {\n",
              "      border-color: transparent;\n",
              "      border-left-color: var(--fill-color);\n",
              "      border-top-color: var(--fill-color);\n",
              "      border-right-color: var(--fill-color);\n",
              "    }\n",
              "    40% {\n",
              "      border-color: transparent;\n",
              "      border-right-color: var(--fill-color);\n",
              "      border-top-color: var(--fill-color);\n",
              "    }\n",
              "    60% {\n",
              "      border-color: transparent;\n",
              "      border-right-color: var(--fill-color);\n",
              "    }\n",
              "    80% {\n",
              "      border-color: transparent;\n",
              "      border-right-color: var(--fill-color);\n",
              "      border-bottom-color: var(--fill-color);\n",
              "    }\n",
              "    90% {\n",
              "      border-color: transparent;\n",
              "      border-bottom-color: var(--fill-color);\n",
              "    }\n",
              "  }\n",
              "</style>\n",
              "\n",
              "      <script>\n",
              "        async function quickchart(key) {\n",
              "          const quickchartButtonEl =\n",
              "            document.querySelector('#' + key + ' button');\n",
              "          quickchartButtonEl.disabled = true;  // To prevent multiple clicks.\n",
              "          quickchartButtonEl.classList.add('colab-df-spinner');\n",
              "          try {\n",
              "            const charts = await google.colab.kernel.invokeFunction(\n",
              "                'suggestCharts', [key], {});\n",
              "          } catch (error) {\n",
              "            console.error('Error during call to suggestCharts:', error);\n",
              "          }\n",
              "          quickchartButtonEl.classList.remove('colab-df-spinner');\n",
              "          quickchartButtonEl.classList.add('colab-df-quickchart-complete');\n",
              "        }\n",
              "        (() => {\n",
              "          let quickchartButtonEl =\n",
              "            document.querySelector('#df-e4b84a86-e75e-47c6-8c95-ba76bc13917d button');\n",
              "          quickchartButtonEl.style.display =\n",
              "            google.colab.kernel.accessAllowed ? 'block' : 'none';\n",
              "        })();\n",
              "      </script>\n",
              "    </div>\n",
              "\n",
              "    </div>\n",
              "  </div>\n"
            ],
            "application/vnd.google.colaboratory.intrinsic+json": {
              "type": "dataframe",
              "variable_name": "tienda",
              "summary": "{\n  \"name\": \"tienda\",\n  \"rows\": 2359,\n  \"fields\": [\n    {\n      \"column\": \"Producto\",\n      \"properties\": {\n        \"dtype\": \"category\",\n        \"num_unique_values\": 51,\n        \"samples\": [\n          \"Guitarra ac\\u00fastica\",\n          \"Bal\\u00f3n de baloncesto\",\n          \"Smartwatch\"\n        ],\n        \"semantic_type\": \"\",\n        \"description\": \"\"\n      }\n    },\n    {\n      \"column\": \"Categor\\u00eda del Producto\",\n      \"properties\": {\n        \"dtype\": \"category\",\n        \"num_unique_values\": 8,\n        \"samples\": [\n          \"Muebles\",\n          \"Deportes y diversi\\u00f3n\",\n          \"Electr\\u00f3nicos\"\n        ],\n        \"semantic_type\": \"\",\n        \"description\": \"\"\n      }\n    },\n    {\n      \"column\": \"Precio\",\n      \"properties\": {\n        \"dtype\": \"number\",\n        \"std\": 614686.7653873172,\n        \"min\": 7600.0,\n        \"max\": 2977000.0,\n        \"num_unique_values\": 1937,\n        \"samples\": [\n          2499400.0,\n          14800.0,\n          80500.0\n        ],\n        \"semantic_type\": \"\",\n        \"description\": \"\"\n      }\n    },\n    {\n      \"column\": \"Costo de env\\u00edo\",\n      \"properties\": {\n        \"dtype\": \"number\",\n        \"std\": 32860.0017825605,\n        \"min\": 0.0,\n        \"max\": 160800.0,\n        \"num_unique_values\": 753,\n        \"samples\": [\n          117800.0,\n          54700.0,\n          45600.0\n        ],\n        \"semantic_type\": \"\",\n        \"description\": \"\"\n      }\n    },\n    {\n      \"column\": \"Fecha de Compra\",\n      \"properties\": {\n        \"dtype\": \"object\",\n        \"num_unique_values\": 1018,\n        \"samples\": [\n          \"15/09/2022\",\n          \"03/06/2020\",\n          \"06/11/2021\"\n        ],\n        \"semantic_type\": \"\",\n        \"description\": \"\"\n      }\n    },\n    {\n      \"column\": \"Vendedor\",\n      \"properties\": {\n        \"dtype\": \"category\",\n        \"num_unique_values\": 14,\n        \"samples\": [\n          \"Juliana Costa\",\n          \"Mariana Herrera\",\n          \"Pedro Gomez\"\n        ],\n        \"semantic_type\": \"\",\n        \"description\": \"\"\n      }\n    },\n    {\n      \"column\": \"Lugar de Compra\",\n      \"properties\": {\n        \"dtype\": \"category\",\n        \"num_unique_values\": 19,\n        \"samples\": [\n          \"Bogot\\u00e1\",\n          \"Pereira\",\n          \"Neiva\"\n        ],\n        \"semantic_type\": \"\",\n        \"description\": \"\"\n      }\n    },\n    {\n      \"column\": \"Calificaci\\u00f3n\",\n      \"properties\": {\n        \"dtype\": \"number\",\n        \"std\": 1,\n        \"min\": 1,\n        \"max\": 5,\n        \"num_unique_values\": 5,\n        \"samples\": [\n          1,\n          2,\n          5\n        ],\n        \"semantic_type\": \"\",\n        \"description\": \"\"\n      }\n    },\n    {\n      \"column\": \"M\\u00e9todo de pago\",\n      \"properties\": {\n        \"dtype\": \"category\",\n        \"num_unique_values\": 4,\n        \"samples\": [\n          \"Nequi\",\n          \"Tarjeta de d\\u00e9bito\",\n          \"Tarjeta de cr\\u00e9dito\"\n        ],\n        \"semantic_type\": \"\",\n        \"description\": \"\"\n      }\n    },\n    {\n      \"column\": \"Cantidad de cuotas\",\n      \"properties\": {\n        \"dtype\": \"number\",\n        \"std\": 2,\n        \"min\": 1,\n        \"max\": 24,\n        \"num_unique_values\": 15,\n        \"samples\": [\n          7,\n          14,\n          8\n        ],\n        \"semantic_type\": \"\",\n        \"description\": \"\"\n      }\n    },\n    {\n      \"column\": \"lat\",\n      \"properties\": {\n        \"dtype\": \"number\",\n        \"std\": 2.2874452492678627,\n        \"min\": -4.21528,\n        \"max\": 11.54444,\n        \"num_unique_values\": 19,\n        \"samples\": [\n          4.60971,\n          4.81333,\n          2.9273\n        ],\n        \"semantic_type\": \"\",\n        \"description\": \"\"\n      }\n    },\n    {\n      \"column\": \"lon\",\n      \"properties\": {\n        \"dtype\": \"number\",\n        \"std\": 1.2178272727088486,\n        \"min\": -77.28111,\n        \"max\": -67.9239,\n        \"num_unique_values\": 19,\n        \"samples\": [\n          -74.08175,\n          -75.69611,\n          -75.28189\n        ],\n        \"semantic_type\": \"\",\n        \"description\": \"\"\n      }\n    }\n  ]\n}"
            }
          },
          "metadata": {},
          "execution_count": 41
        }
      ],
      "source": [
        "import pandas as pd\n",
        "import numpy as np\n",
        "\n",
        "url = \"https://raw.githubusercontent.com/alura-es-cursos/challenge1-data-science-latam/refs/heads/main/base-de-datos-challenge1-latam/tienda_1%20.csv\"\n",
        "url2 = \"https://raw.githubusercontent.com/alura-es-cursos/challenge1-data-science-latam/refs/heads/main/base-de-datos-challenge1-latam/tienda_2.csv\"\n",
        "url3 = \"https://raw.githubusercontent.com/alura-es-cursos/challenge1-data-science-latam/refs/heads/main/base-de-datos-challenge1-latam/tienda_3.csv\"\n",
        "url4 = \"https://raw.githubusercontent.com/alura-es-cursos/challenge1-data-science-latam/refs/heads/main/base-de-datos-challenge1-latam/tienda_4.csv\"\n",
        "\n",
        "tienda = pd.read_csv(url)\n",
        "tienda2 = pd.read_csv(url2)\n",
        "tienda3 = pd.read_csv(url3)\n",
        "tienda4 = pd.read_csv(url4)\n",
        "\n",
        "tienda.head()"
      ]
    },
    {
      "cell_type": "markdown",
      "source": [
        "#1. Análisis de facturación\n",
        "\n"
      ],
      "metadata": {
        "id": "X62IW3KFUIYm"
      }
    },
    {
      "cell_type": "code",
      "source": [
        "def sumarDf(df: pd.DataFrame) -> float:\n",
        "    return df['Precio'].sum()"
      ],
      "metadata": {
        "id": "d-EzSha30hdZ"
      },
      "execution_count": null,
      "outputs": []
    },
    {
      "cell_type": "code",
      "source": [
        "tienda_suma = sumarDf(tienda)\n",
        "tienda_suma_2 = sumarDf(tienda2)\n",
        "tienda_suma_3 = sumarDf(tienda3)\n",
        "tienda_suma_4 = sumarDf(tienda4)"
      ],
      "metadata": {
        "id": "xykobSftV64I"
      },
      "execution_count": null,
      "outputs": []
    },
    {
      "cell_type": "code",
      "source": [
        "print(f\"Ventas la tienda 1: {tienda_suma:,.0f}\\nVentas la tienda 2: {tienda_suma_2:,.0f}\\nVentas la tienda 3: {tienda_suma_3:,.0f}\\nVentas la tienda 4: {tienda_suma_4:,.0f}\")"
      ],
      "metadata": {
        "id": "KDyr8E71V3m-",
        "colab": {
          "base_uri": "https://localhost:8080/"
        },
        "outputId": "a5306d37-b55a-4df3-cc3a-8b0b0765af03"
      },
      "execution_count": null,
      "outputs": [
        {
          "output_type": "stream",
          "name": "stdout",
          "text": [
            "Ventas la tienda 1: 1,150,880,400\n",
            "Ventas la tienda 2: 1,116,343,500\n",
            "Ventas la tienda 3: 1,098,019,600\n",
            "Ventas la tienda 4: 1,038,375,700\n"
          ]
        }
      ]
    },
    {
      "cell_type": "markdown",
      "source": [
        "# 2. Ventas por categoría"
      ],
      "metadata": {
        "id": "2V_vcAPzWZmR"
      }
    },
    {
      "cell_type": "code",
      "source": [
        "def agruparProductoVentas (df: pd.DataFrame, tienda:str) -> None:\n",
        "    # Agrupar por producto y sumar el # de ventas\n",
        "    ventas_categoria = df.groupby('Categoría del Producto')['Producto'].count().reset_index(name='Cantidad de Ventas')\n",
        "    # Ordenarlos de mayor a menor\n",
        "    ventas_categoria = ventas_categoria.sort_values(['Cantidad de Ventas'], ascending=False)\n",
        "    top_3 = ventas_categoria.head(3).values.tolist()\n",
        "    # Imprimir top 3\n",
        "    print(f'{tienda}:')\n",
        "    print(f'1. {top_3[0][0]}: {top_3[0][1]} unidades\\n2. {top_3[1][0]}: {top_3[1][1]} unidades\\n3. {top_3[2][0]}: {top_3[2][1]} unidades\\n')"
      ],
      "metadata": {
        "id": "CMUyk30Q1x-i"
      },
      "execution_count": null,
      "outputs": []
    },
    {
      "cell_type": "code",
      "source": [
        "print(\"Productos más vendidos por Tiendas:\")\n",
        "agruparProductoVentas(tienda,'Tienda 1')\n",
        "agruparProductoVentas(tienda2,'Tienda 2')\n",
        "agruparProductoVentas(tienda3,'Tienda 3')\n",
        "agruparProductoVentas(tienda4,'Tienda 4')"
      ],
      "metadata": {
        "id": "A34YupIuYhfF",
        "colab": {
          "base_uri": "https://localhost:8080/"
        },
        "outputId": "b0642405-9f5f-4150-fe78-05b4facdccda"
      },
      "execution_count": null,
      "outputs": [
        {
          "output_type": "stream",
          "name": "stdout",
          "text": [
            "Productos más vendidos por Tiendas:\n",
            "Tienda 1:\n",
            "1. Muebles: 465 unidades\n",
            "2. Electrónicos: 448 unidades\n",
            "3. Juguetes: 324 unidades\n",
            "\n",
            "Tienda 2:\n",
            "1. Muebles: 442 unidades\n",
            "2. Electrónicos: 422 unidades\n",
            "3. Juguetes: 313 unidades\n",
            "\n",
            "Tienda 3:\n",
            "1. Muebles: 499 unidades\n",
            "2. Electrónicos: 451 unidades\n",
            "3. Juguetes: 315 unidades\n",
            "\n",
            "Tienda 4:\n",
            "1. Muebles: 480 unidades\n",
            "2. Electrónicos: 451 unidades\n",
            "3. Juguetes: 338 unidades\n",
            "\n"
          ]
        }
      ]
    },
    {
      "cell_type": "markdown",
      "source": [
        "# 3. Calificación promedio de la tienda\n"
      ],
      "metadata": {
        "id": "Rq6tU_xSY3jk"
      }
    },
    {
      "cell_type": "code",
      "source": [
        "calificacion = round(float(tienda['Calificación'].mean()),2)\n",
        "calificacion_2 = round(float(tienda2['Calificación'].mean()),2)\n",
        "calificacion_3 = round(float(tienda2['Calificación'].mean()),2)\n",
        "calificacion_4 = round(float(tienda2['Calificación'].mean()),2)"
      ],
      "metadata": {
        "id": "bh3jjjJwY5MU"
      },
      "execution_count": null,
      "outputs": []
    },
    {
      "cell_type": "code",
      "source": [
        "print(f\"La calificación promedio por tienda fue:\\nTienda 1:{calificacion}\\nTienda 2:{calificacion_2}\\nTienda 3:{calificacion_3}\\nTienda 4:{calificacion_4}\")"
      ],
      "metadata": {
        "id": "I0KkjPoTY88F",
        "colab": {
          "base_uri": "https://localhost:8080/"
        },
        "outputId": "3c6ea1ae-325c-40b3-8724-087b6f9a9707"
      },
      "execution_count": null,
      "outputs": [
        {
          "output_type": "stream",
          "name": "stdout",
          "text": [
            "La calificación promedio por tienda fue:\n",
            "Tienda 1:3.98\n",
            "Tienda 2:4.04\n",
            "Tienda 3:4.04\n",
            "Tienda 4:4.04\n"
          ]
        }
      ]
    },
    {
      "cell_type": "markdown",
      "source": [
        "# 4. Productos más y menos vendidos"
      ],
      "metadata": {
        "id": "DmNp1KPBZCm-"
      }
    },
    {
      "cell_type": "code",
      "source": [
        "def agruparProductoVentas (df: pd.DataFrame, tienda:str) -> None:\n",
        "    # Agrupar por producto y sumar el # de ventas\n",
        "    ventas_categoria = df.groupby('Producto')['Producto'].count().reset_index(name='Cantidad de Productos')\n",
        "    # Ordenarlos de mayor a menor\n",
        "    ventas_categoria = ventas_categoria.sort_values(['Cantidad de Productos'],ascending =False).reset_index(drop=True)\n",
        "    top_3 = ventas_categoria.head(3).values.tolist()\n",
        "    bottom_3 = ventas_categoria.tail(3).values.tolist()\n",
        "    # Imprimir top 3\n",
        "    print(f'{tienda}:')\n",
        "    print(f'Los más vendidos fueron:')\n",
        "    print(f'1. {top_3[0][0]}: {top_3[0][1]} unidades\\n2. {top_3[1][0]}: {top_3[1][1]} unidades\\n3. {top_3[2][0]}: {top_3[2][1]} unidades\\n')\n",
        "    print(f'Los menos vendidos fueron:')\n",
        "    print(f'1. {bottom_3[0][0]}: {bottom_3[0][1]} unidades\\n2. {bottom_3[1][0]}: {bottom_3[1][1]} unidades\\n3. {bottom_3[2][0]}: {bottom_3[2][1]} unidades\\n')"
      ],
      "metadata": {
        "id": "jT_1wukC4b7m"
      },
      "execution_count": null,
      "outputs": []
    },
    {
      "cell_type": "code",
      "source": [
        "agruparProductoVentas(tienda,'Tienda 1')\n",
        "agruparProductoVentas(tienda2,'Tienda 2')\n",
        "agruparProductoVentas(tienda3,'Tienda 3')\n",
        "agruparProductoVentas(tienda4,'Tienda 4')"
      ],
      "metadata": {
        "colab": {
          "base_uri": "https://localhost:8080/"
        },
        "id": "VqgacYXB4czh",
        "outputId": "f2667585-7f77-4811-9b2a-22d2acee13b9"
      },
      "execution_count": null,
      "outputs": [
        {
          "output_type": "stream",
          "name": "stdout",
          "text": [
            "Tienda 1:\n",
            "Los más vendidos fueron:\n",
            "1. Armario: 60 unidades\n",
            "2. TV LED UHD 4K: 60 unidades\n",
            "3. Microondas: 60 unidades\n",
            "\n",
            "Los menos vendidos fueron:\n",
            "1. Olla de presión: 35 unidades\n",
            "2. Celular ABXY: 33 unidades\n",
            "3. Auriculares con micrófono: 33 unidades\n",
            "\n",
            "Tienda 2:\n",
            "Los más vendidos fueron:\n",
            "1. Iniciando en programación: 65 unidades\n",
            "2. Microondas: 62 unidades\n",
            "3. Batería: 61 unidades\n",
            "\n",
            "Los menos vendidos fueron:\n",
            "1. Impresora: 34 unidades\n",
            "2. Mesa de comedor: 34 unidades\n",
            "3. Juego de mesa: 32 unidades\n",
            "\n",
            "Tienda 3:\n",
            "Los más vendidos fueron:\n",
            "1. Kit de bancas: 57 unidades\n",
            "2. Mesa de comedor: 56 unidades\n",
            "3. Cama king: 56 unidades\n",
            "\n",
            "Los menos vendidos fueron:\n",
            "1. Microondas: 36 unidades\n",
            "2. Set de vasos: 36 unidades\n",
            "3. Bloques de construcción: 35 unidades\n",
            "\n",
            "Tienda 4:\n",
            "Los más vendidos fueron:\n",
            "1. Cama box: 62 unidades\n",
            "2. Cubertería: 59 unidades\n",
            "3. Cama king: 56 unidades\n",
            "\n",
            "Los menos vendidos fueron:\n",
            "1. Guitarra acústica: 37 unidades\n",
            "2. Armario: 34 unidades\n",
            "3. Guitarra eléctrica: 33 unidades\n",
            "\n"
          ]
        }
      ]
    },
    {
      "cell_type": "markdown",
      "source": [
        "# 5. Envío promedio por tienda"
      ],
      "metadata": {
        "id": "Fl0cGi3bZKqU"
      }
    },
    {
      "cell_type": "code",
      "source": [
        "def meanStore(tienda: pd.DataFrame) -> float:\n",
        "    try:\n",
        "        suma = tienda['Costo de envío'].sum()\n",
        "        promedio_tienda = round(suma / len(tienda),2)\n",
        "\n",
        "        return promedio_tienda\n",
        "    except NameError as n:\n",
        "        print(\"Error en el nombre del DF\")\n",
        "        return 0.0\n",
        "    except Exception as e:\n",
        "        print(f\"Error: {e}\")\n",
        "        return 0.0"
      ],
      "metadata": {
        "id": "S2JeaCykZNy9"
      },
      "execution_count": null,
      "outputs": []
    },
    {
      "cell_type": "code",
      "source": [
        "envio_prom_tienda = meanStore(tienda)\n",
        "envio_prom_tienda2 = meanStore(tienda2)\n",
        "envio_prom_tienda3 = meanStore(tienda3)\n",
        "envio_prom_tienda4 = meanStore(tienda4)\n",
        "\n",
        "print(f\"El promedio de costo de envio en la tienda 1 es: {envio_prom_tienda:,.0f}\")\n",
        "print(f\"El promedio de costo de envio en la tienda 2 es: {envio_prom_tienda2:,.0f}\")\n",
        "print(f\"El promedio de costo de envio en la tienda 3 es: {envio_prom_tienda3:,.0f}\")\n",
        "print(f\"El promedio de costo de envio en la tienda 4 es: {envio_prom_tienda4:,.0f}\")"
      ],
      "metadata": {
        "id": "0tSdCie9ZQlt",
        "colab": {
          "base_uri": "https://localhost:8080/"
        },
        "outputId": "2e4136bd-f1b2-4c29-8940-f482b93da263"
      },
      "execution_count": null,
      "outputs": [
        {
          "output_type": "stream",
          "name": "stdout",
          "text": [
            "El promedio de costo de envio en la tienda 1 es: 26,019\n",
            "El promedio de costo de envio en la tienda 2 es: 25,216\n",
            "El promedio de costo de envio en la tienda 3 es: 24,806\n",
            "El promedio de costo de envio en la tienda 4 es: 23,459\n"
          ]
        }
      ]
    },
    {
      "cell_type": "markdown",
      "source": [
        "# Gráficos"
      ],
      "metadata": {
        "id": "aYe9Ipfw6ol5"
      }
    },
    {
      "cell_type": "code",
      "source": [
        "import matplotlib.pyplot as plt\n",
        "\n",
        "# Pie: Ventas por tienda\n",
        "tienda_suma = sumarDf(tienda)\n",
        "tienda_suma_2 = sumarDf(tienda2)\n",
        "tienda_suma_3 = sumarDf(tienda3)\n",
        "tienda_suma_4 = sumarDf(tienda4)\n",
        "\n",
        "labels = ['Tienda 1','Tienda 2','Tienda 3','Tienda 4']\n",
        "ventas_tienda = [float(tienda_suma),float(tienda_suma_2),float(tienda_suma_3),float(tienda_suma_4)]\n",
        "\n",
        "dic = {\n",
        "    'ventas_tienda': ventas_tienda,\n",
        "    'labels': labels\n",
        "}\n",
        "\n",
        "pie_chart = pd.DataFrame(dic)\n",
        "\n",
        "bars = plt.bar(pie_chart.labels,pie_chart.ventas_tienda,width=0.5, color = ['#03441B','#05702C','#079C3E','#09C84F'])\n",
        "labels_formateadas = [f\"{int(valor/1000000):,}\" for valor in pie_chart.ventas_tienda]\n",
        "plt.bar_label(bars,labels=labels_formateadas)\n",
        "plt.title(\"Ventas por Tienda (millones)\")\n",
        "plt.ylabel(\"Ventas (millones)\")\n",
        "plt.show()\n",
        "\n",
        "\n",
        "# Ventas la tienda 1: 1,150,880,400\n",
        "# Ventas la tienda 2: 1,116,343,500\n",
        "# Ventas la tienda 3: 1,098,019,600\n",
        "# Ventas la tienda 4: 1,038,375,700"
      ],
      "metadata": {
        "colab": {
          "base_uri": "https://localhost:8080/",
          "height": 452
        },
        "id": "Thv-233T6oSj",
        "outputId": "b7decd32-9c22-47f4-98e7-4256ef628fde"
      },
      "execution_count": null,
      "outputs": [
        {
          "output_type": "display_data",
          "data": {
            "text/plain": [
              "<Figure size 640x480 with 1 Axes>"
            ],
            "image/png": "[encoded data removed]"
          },
          "metadata": {}
        }
      ]
    },
    {
      "cell_type": "code",
      "source": [
        "\n",
        "# Barras Horizonaltes: Calificación\n",
        "\n",
        "# Columnas: Costo de envío\n",
        "\n",
        "# Barras Horizontales: los productos más vendidos"
      ],
      "metadata": {
        "id": "KMtcW2_09TRY"
      },
      "execution_count": null,
      "outputs": []
    },
    {
      "cell_type": "markdown",
      "source": [
        "# Análisis de la tiendas Alura Store:\n",
        "\n",
        "## Ingresos Totales por Tienda\n",
        "- Ventas la tienda 1: 1,150,880,400\n",
        "- Ventas la tienda 2: 1,116,343,500\n",
        "- Ventas la tienda 3: 1,098,019,600\n",
        "- Ventas la tienda 4: 1,038,375,700 **(✅ menos ingresos totales)**\n",
        "\n",
        "## Costo de Envío Promedio\n",
        "- El promedio de costo de envio en la tienda 1 es: 26,019 **(✅ mayor costo de envío)**\n",
        "- El promedio de costo de envio en la tienda 2 es: 25,216\n",
        "- El promedio de costo de envio en la tienda 3 es: 24,806\n",
        "- El promedio de costo de envio en la tienda 4 es: 23,459\n",
        "\n",
        "## Calificación promedio de los clientes\n",
        "La calificación promedio por tienda fue:\n",
        "- Tienda 1:3.98 **(✅ menor calificación)**\n",
        "- Tienda 2:4.04\n",
        "- Tienda 3:4.04\n",
        "- Tienda 4:4.04"
      ],
      "metadata": {
        "id": "XszxHuAACWQ1"
      }
    }
  ]
}